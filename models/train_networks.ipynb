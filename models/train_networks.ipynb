{
 "cells": [
  {
   "cell_type": "code",
   "execution_count": null,
   "id": "ba1635dd",
   "metadata": {},
   "outputs": [],
   "source": [
    "import pandas as pd\n",
    "import numpy as np\n",
    "import torch\n",
    "import sys\n",
    "\n",
    "from neural_models import NeuralLVModel, NeuralLSVModel, NeuralTrainer"
   ]
  },
  {
   "cell_type": "code",
   "execution_count": null,
   "id": "49d062a4",
   "metadata": {},
   "outputs": [],
   "source": [
    "rate = 0.025\n",
    "device = 'cuda:0'\n",
    "\n",
    "model = NeuralLSVModel(input_dim=1, # NeuralLSVModel\n",
    "                       hidden_dims=[50,50,50,50],\n",
    "                       rate=rate, \n",
    "                       device=device)\n",
    "problem = 'lower bound' # 'lower bound', 'standard' or 'upper bound'\n",
    "\n",
    "trainer = NeuralTrainer(model, problem)\n",
    "\n",
    "data = pd.read_csv('Call_Put_prices.csv', index_col=0)\n",
    "time_grid = torch.linspace(0, 1, 96+1)\n",
    "checkpoints = [3e-5, 1e-5, \n",
    "               5e-6, 3e-6, 2e-6, 1e-6, \n",
    "               7e-7, 5e-7, 4e-7, 3e-7, 2e-7, 1e-7, \n",
    "               8e-8, 7e-8, 6e-8, 5e-8, 4e-8, 3e-8, 2e-8, 1e-8]\n",
    "schedule = 'steps'\n",
    "\n",
    "trainer.prepare_training(data, time_grid, device, schedule)"
   ]
  },
  {
   "cell_type": "code",
   "execution_count": null,
   "id": "41e37ff6",
   "metadata": {},
   "outputs": [],
   "source": [
    "with open(f\"logs_{model.__name__}_{problem.replace(' ', '')}.txt\", 'w') as log_file:\n",
    "    try:\n",
    "        sys.stdout = log_file\n",
    "        training_records = trainer.train(s0=1., \n",
    "                                         N_trn=40000, \n",
    "                                         N_batchs=20, \n",
    "                                         N_epochs=1000, \n",
    "                                         checkpoints=checkpoints,\n",
    "                                         verbose=True)\n",
    "        trainer.plot_metrics()\n",
    "    except KeyboardInterrupt:\n",
    "        trainer.save()\n",
    "        print(\"\\nTraining interrupted by user.\")\n",
    "    finally:\n",
    "        # Restore stdout to its original state\n",
    "        sys.stdout = sys.__stdout__\n",
    "        # Close the file\n",
    "        log_file.close()"
   ]
  }
 ],
 "metadata": {
  "kernelspec": {
   "display_name": "Python 3 (ipykernel)",
   "language": "python",
   "name": "python3"
  },
  "language_info": {
   "codemirror_mode": {
    "name": "ipython",
    "version": 3
   },
   "file_extension": ".py",
   "mimetype": "text/x-python",
   "name": "python",
   "nbconvert_exporter": "python",
   "pygments_lexer": "ipython3",
   "version": "3.10.9"
  }
 },
 "nbformat": 4,
 "nbformat_minor": 5
}
